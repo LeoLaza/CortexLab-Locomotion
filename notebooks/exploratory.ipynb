{
 "cells": [
  {
   "cell_type": "code",
   "execution_count": 15,
   "id": "b701e406",
   "metadata": {},
   "outputs": [
    {
     "name": "stdout",
     "output_type": "stream",
     "text": [
      "Successfully imported neural_processing functions!\n",
      "Successfully imported behavioral_analysis functions!\n"
     ]
    },
    {
     "ename": "ImportError",
     "evalue": "cannot import name 'calculate_median_position' from 'utils.behavioral_analysis' (c:\\Users\\Experiment\\Desktop\\Leonard_Stuff\\git-repository\\cortexlab-locomotion\\utils\\behavioral_analysis.py)",
     "output_type": "error",
     "traceback": [
      "\u001b[1;31m---------------------------------------------------------------------------\u001b[0m",
      "\u001b[1;31mImportError\u001b[0m                               Traceback (most recent call last)",
      "Cell \u001b[1;32mIn[15], line 17\u001b[0m\n\u001b[0;32m     14\u001b[0m \u001b[38;5;28mprint\u001b[39m(\u001b[38;5;124m\"\u001b[39m\u001b[38;5;124mSuccessfully imported behavioral_analysis functions!\u001b[39m\u001b[38;5;124m\"\u001b[39m)\n\u001b[0;32m     16\u001b[0m \u001b[38;5;66;03m# Test correlation analysis module\u001b[39;00m\n\u001b[1;32m---> 17\u001b[0m \u001b[38;5;28;01mfrom\u001b[39;00m \u001b[38;5;21;01mutils\u001b[39;00m\u001b[38;5;21;01m.\u001b[39;00m\u001b[38;5;21;01mcorrelation_analysis\u001b[39;00m \u001b[38;5;28;01mimport\u001b[39;00m (\n\u001b[0;32m     18\u001b[0m     get_correlations,\n\u001b[0;32m     19\u001b[0m     get_cross_context_correlations\n\u001b[0;32m     20\u001b[0m )\n\u001b[0;32m     22\u001b[0m \u001b[38;5;28mprint\u001b[39m(\u001b[38;5;124m\"\u001b[39m\u001b[38;5;124mSuccessfully imported correlation_analysis functions!\u001b[39m\u001b[38;5;124m\"\u001b[39m)\n\u001b[0;32m     24\u001b[0m \u001b[38;5;28;01mfrom\u001b[39;00m \u001b[38;5;21;01mutils\u001b[39;00m\u001b[38;5;21;01m.\u001b[39;00m\u001b[38;5;21;01mstatistical_testing\u001b[39;00m \u001b[38;5;28;01mimport\u001b[39;00m cross_validate_correlations\n",
      "File \u001b[1;32mc:\\Users\\Experiment\\Desktop\\Leonard_Stuff\\git-repository\\cortexlab-locomotion\\utils\\__init__.py:14\u001b[0m\n\u001b[0;32m      1\u001b[0m \u001b[38;5;124;03m\"\"\"\u001b[39;00m\n\u001b[0;32m      2\u001b[0m \u001b[38;5;124;03mCortexLab-Locomotion\u001b[39;00m\n\u001b[0;32m      3\u001b[0m \n\u001b[0;32m      4\u001b[0m \u001b[38;5;124;03mA modular Python package for analyzing neural activity from chronic neuropixel recordings \u001b[39;00m\n\u001b[0;32m      5\u001b[0m \u001b[38;5;124;03min mice during bouts of locomotion in different contexts.\u001b[39;00m\n\u001b[0;32m      6\u001b[0m \u001b[38;5;124;03m\"\"\"\u001b[39;00m\n\u001b[0;32m      8\u001b[0m \u001b[38;5;28;01mfrom\u001b[39;00m \u001b[38;5;21;01m.\u001b[39;00m\u001b[38;5;21;01mneural_processing\u001b[39;00m \u001b[38;5;28;01mimport\u001b[39;00m (\n\u001b[0;32m      9\u001b[0m     get_spike_hist,\n\u001b[0;32m     10\u001b[0m     normalize_spike_counts, \n\u001b[0;32m     11\u001b[0m     filter_spike_counts\n\u001b[0;32m     12\u001b[0m )\n\u001b[1;32m---> 14\u001b[0m \u001b[38;5;28;01mfrom\u001b[39;00m \u001b[38;5;21;01m.\u001b[39;00m\u001b[38;5;21;01mbehavioral_analysis\u001b[39;00m \u001b[38;5;28;01mimport\u001b[39;00m (\n\u001b[0;32m     15\u001b[0m     calculate_median_position,\n\u001b[0;32m     16\u001b[0m     bin_median_positions,\n\u001b[0;32m     17\u001b[0m     calculate_velocity,\n\u001b[0;32m     18\u001b[0m     calculate_wheel_velocity,\n\u001b[0;32m     19\u001b[0m     get_position_masks,\n\u001b[0;32m     20\u001b[0m     temporal_buffer,\n\u001b[0;32m     21\u001b[0m     get_speed_masks,\n\u001b[0;32m     22\u001b[0m     detect_bouts\n\u001b[0;32m     23\u001b[0m )\n\u001b[0;32m     25\u001b[0m \u001b[38;5;28;01mfrom\u001b[39;00m \u001b[38;5;21;01m.\u001b[39;00m\u001b[38;5;21;01mcorrelation_analysis\u001b[39;00m \u001b[38;5;28;01mimport\u001b[39;00m (\n\u001b[0;32m     26\u001b[0m     get_correlations,\n\u001b[0;32m     27\u001b[0m     get_cross_context_correlations\n\u001b[0;32m     28\u001b[0m )\n\u001b[0;32m     30\u001b[0m \u001b[38;5;28;01mfrom\u001b[39;00m \u001b[38;5;21;01m.\u001b[39;00m\u001b[38;5;21;01mstatistical_testing\u001b[39;00m \u001b[38;5;28;01mimport\u001b[39;00m (\n\u001b[0;32m     31\u001b[0m     cross_validate_correlations,\n\u001b[0;32m     32\u001b[0m     compute_null_distributions_for_session,\n\u001b[1;32m   (...)\u001b[0m\n\u001b[0;32m     35\u001b[0m     categorise_neurons\n\u001b[0;32m     36\u001b[0m )\n",
      "\u001b[1;31mImportError\u001b[0m: cannot import name 'calculate_median_position' from 'utils.behavioral_analysis' (c:\\Users\\Experiment\\Desktop\\Leonard_Stuff\\git-repository\\cortexlab-locomotion\\utils\\behavioral_analysis.py)"
     ]
    }
   ],
   "source": [
    "import sys\n",
    "import os\n",
    "sys.path.append(os.path.dirname(os.getcwd()))\n",
    "from utils.neural_processing import get_spike_hist, normalize_spike_counts, filter_spike_counts\n",
    "print(\"Successfully imported neural_processing functions!\")\n",
    "\n",
    "from utils.behavioral_analysis import (\n",
    "    calculate_velocity,\n",
    "    calculate_wheel_velocity, \n",
    "    get_position_masks,\n",
    "    detect_bouts\n",
    ")\n",
    "\n",
    "print(\"Successfully imported behavioral_analysis functions!\")\n",
    "\n",
    "# Test correlation analysis module\n",
    "from utils.correlation_analysis import (\n",
    "    get_correlations,\n",
    "    get_cross_context_correlations\n",
    ")\n",
    "\n",
    "print(\"Successfully imported correlation_analysis functions!\")\n",
    "\n",
    "from utils.statistical_testing import cross_validate_correlations\n",
    "\n",
    "print(\"Successfully imported correlation_analysis functions!\")\n",
    "\n",
    "from utils.visualization import (\n",
    "    plot_correlation_histogram,\n",
    "    plot_wheel_arena_corr,\n",
    "    plot_single_session\n",
    ")\n",
    "\n",
    "print(\"Successfully imported correlation_analysis functions!\")\n",
    "\n",
    "from utils.data_io import (\n",
    "    create_time_bins,\n",
    ")\n",
    "\n",
    "\n",
    "\n"
   ]
  },
  {
   "cell_type": "code",
   "execution_count": 8,
   "id": "6e4040f9",
   "metadata": {},
   "outputs": [
    {
     "name": "stdout",
     "output_type": "stream",
     "text": [
      "Current directory: c:\\Users\\Experiment\\Desktop\\Leonard_Stuff\\git-repository\\cortexlab-locomotion\\notebooks\n",
      "Parent directory contents: ['.git', 'Correlation.ipynb', 'Data_Loading_Functions.py', 'define_roi.ipynb', 'notebooks', 'Plotting_Functions.py', 'README.md', 'Untitled-1.ipynb', 'utils', 'Velocity_Calculations.py', 'video_labeling.ipynb', 'Video_Labeling.py', 'Video_Labeling_New.py']\n"
     ]
    }
   ],
   "source": [
    "print(\"Current directory:\", os.getcwd())\n",
    "print(\"Parent directory contents:\", os.listdir('../'))"
   ]
  }
 ],
 "metadata": {
  "kernelspec": {
   "display_name": "PinkRigs_data_analysis_project",
   "language": "python",
   "name": "python3"
  },
  "language_info": {
   "codemirror_mode": {
    "name": "ipython",
    "version": 3
   },
   "file_extension": ".py",
   "mimetype": "text/x-python",
   "name": "python",
   "nbconvert_exporter": "python",
   "pygments_lexer": "ipython3",
   "version": "3.10.16"
  }
 },
 "nbformat": 4,
 "nbformat_minor": 5
}
